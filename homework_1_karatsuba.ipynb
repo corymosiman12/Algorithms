{
 "cells": [
  {
   "cell_type": "markdown",
   "metadata": {},
   "source": [
    "## Karatsuba's Algorithm\n",
    "Description:\n",
    "Karatsuba's algorithm is a recursive algorithm used for integer multiplication.  The algorithm is as follows:\n",
    "\n",
    "1. For two integers x,y with lengths n, m in base 10:\n",
    "\n",
    "- Define X_H = first n/2 digits of x, X_L = last n/2 digits of x\n",
    "- Define Y_H  = first m/2 digits of y, Y_L = last m/2 digits of y\n",
    "- Define a = X_H*Y_H\n",
    "- Define b = X_L*Y_L\n",
    "- Define c = (X_H + X_L)(Y_H + Y_L)\n",
    "- x*y = a*10^n + (c-a-b)*10^n/2 + b\n",
    "\n",
    "Lessons learned:\n",
    "\n",
    "- Must be very careful how integers are rounded.\n",
    "- A very clever way to return the second half of a digit, rather than slicing from n/2:n, is to use a modulo (%)"
   ]
  },
  {
   "cell_type": "code",
   "execution_count": 159,
   "metadata": {
    "collapsed": true
   },
   "outputs": [],
   "source": [
    "import math\n",
    "\n",
    "def karatsuba(x,y):\n",
    "    \n",
    "    if len(str(x)) == 1 or len(str(y)) == 1:\n",
    "        return x*y\n",
    "        \n",
    "    else:\n",
    "        # Using a//b instead of math.floor(a/b) actually makes a difference w.r.t. results\n",
    "        n = max(len(str(x)), len(str(y)))\n",
    "        n2 = n//2\n",
    "        \n",
    "        X_H = x//(10**n2)\n",
    "        X_L = x % (10**n2)\n",
    "\n",
    "        Y_H = y//(10**n2)\n",
    "        Y_L = y % (10**n2)\n",
    "    \n",
    "        a = karatsuba(X_H,Y_H)\n",
    "        b = karatsuba(X_L, Y_L)\n",
    "        c = karatsuba(X_H+X_L, Y_H+Y_L)\n",
    "        \n",
    "        ans = int(a*(10**(2*n2)) + (c-a-b)*(10**n2) + b)\n",
    "        return ans"
   ]
  },
  {
   "cell_type": "code",
   "execution_count": 160,
   "metadata": {
    "collapsed": true
   },
   "outputs": [],
   "source": [
    "k_ans = karatsuba(3141592653589793238462643383279502884197169399375105820974944592,2718281828459045235360287471352662497757247093699959574966967627)\n",
    "ans_1 = 3141592653589793238462643383279502884197169399375105820974944592*2718281828459045235360287471352662497757247093699959574966967627"
   ]
  },
  {
   "cell_type": "code",
   "execution_count": 161,
   "metadata": {},
   "outputs": [
    {
     "name": "stdout",
     "output_type": "stream",
     "text": [
      "True\n",
      "1.0\n",
      "8539734222673567065463550869546574495034888535765114961879601127067743044893204848617875072216249073013374895871952806582723184\n",
      "8539734222673567065463550869546574495034888535765114961879601127067743044893204848617875072216249073013374895871952806582723184\n"
     ]
    }
   ],
   "source": [
    "print(k_ans == ans_1)\n",
    "print(k_ans/ans_1)\n",
    "print(k_ans)\n",
    "print(ans_1)"
   ]
  }
 ],
 "metadata": {
  "kernelspec": {
   "display_name": "Python 3",
   "language": "python",
   "name": "python3"
  },
  "language_info": {
   "codemirror_mode": {
    "name": "ipython",
    "version": 3
   },
   "file_extension": ".py",
   "mimetype": "text/x-python",
   "name": "python",
   "nbconvert_exporter": "python",
   "pygments_lexer": "ipython3",
   "version": "3.6.3"
  }
 },
 "nbformat": 4,
 "nbformat_minor": 2
}
