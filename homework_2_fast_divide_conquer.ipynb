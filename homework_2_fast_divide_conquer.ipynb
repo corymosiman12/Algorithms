{
 "cells": [
  {
   "cell_type": "markdown",
   "metadata": {},
   "source": [
    "## Problem\n",
    "This file contains all of the 100,000 integers between 1 and 100,000 (inclusive) in some order, with no integer repeated.\n",
    "\n",
    "Your task is to **compute the number of inversions** in the file given, where the  row of the file indicates the  entry of an array.\n",
    "\n",
    "Because of the large size of this array, you should implement the fast divide-and-conquer algorithm covered in the video lectures.\n",
    "\n",
    "The numeric answer for the given input file should be typed in the space below.\n",
    "\n",
    "So if your answer is 1198233847, then just type 1198233847 in the space provided without any space / commas / any other punctuation marks. You can make up to 5 attempts, and we'll use the best one for grading.\n",
    "\n",
    "(We do not require you to submit your code, so feel free to use any programming language you want --- just type the final numeric answer in the following space.)\n",
    "\n",
    "[TIP: before submitting, first test the correctness of your program on some small test files or your own devising. Then post your best test cases to the discussion forums to help your fellow students!]\n"
   ]
  },
  {
   "cell_type": "code",
   "execution_count": 1,
   "metadata": {},
   "outputs": [],
   "source": [
    "import numpy as np\n",
    "import pandas as pd\n",
    "import logging"
   ]
  },
  {
   "cell_type": "code",
   "execution_count": 2,
   "metadata": {},
   "outputs": [],
   "source": [
    "'''\n",
    "Set up problem by reading in text file and formatting as array\n",
    "'''\n",
    "file_dir = 'data/IntegerArray.txt'\n",
    "file = open(file_dir, 'r') \n",
    "int_array = file.read().splitlines() # exclude '\\n'\n",
    "file.close()\n",
    "int_array = np.array(int_array) # convert to np array"
   ]
  },
  {
   "cell_type": "code",
   "execution_count": 3,
   "metadata": {
    "collapsed": true
   },
   "outputs": [],
   "source": [
    "logfile_path = 'hw2_log.log'\n",
    "logging.basicConfig(filename = logfile_path, level = logging.INFO,\n",
    "                    format='%(asctime)s,%(msecs)d %(levelname)-8s [%(filename)s:%(lineno)d] %(message)s',\n",
    "                    datefmt='%d-%m-%Y:%H:%M:%S',)"
   ]
  },
  {
   "cell_type": "code",
   "execution_count": 19,
   "metadata": {},
   "outputs": [],
   "source": [
    "def CountInversions(array):\n",
    "    '''\n",
    "    Given an unsorted array, return the sorted array and the count of\n",
    "    the number of inversions\n",
    "    '''\n",
    "    count = 0\n",
    "    right_count = 0\n",
    "    left_count = 0\n",
    "    if len(array) < 2:\n",
    "        return (0, array.astype(int)) # require .astype(int), else, will return as _str\n",
    "    else:\n",
    "        halfway = len(array) // 2 # ``//`` returns int\n",
    "        left = array[0:halfway]\n",
    "        right = array[halfway:]\n",
    "        \n",
    "        '''\n",
    "        Perform recursive calls to function, returning counts of inversion\n",
    "        for each half of the array.\n",
    "        '''\n",
    "        left_count, left = CountInversions(left)\n",
    "        right_count, right = CountInversions(right)\n",
    "        \n",
    "        '''\n",
    "        Instantiante a numpy array of zeros with same length as input array.\n",
    "        len(input) == len(output)\n",
    "        '''\n",
    "        return_array = np.zeros_like(array)\n",
    "        i = 0  # track position in left array\n",
    "        j = 0  # track position in right array\n",
    "\n",
    "        '''\n",
    "        Iterate through all elements of the return_array, appending\n",
    "        values from left or right depending on magnitude.\n",
    "        Note, the only counting that occurs is when right[j] < left[i]\n",
    "        Ex:\n",
    "            i, j = 0, 0\n",
    "            i (cur_pos_left)\n",
    "            j (cur_pos_right)\n",
    "            left = [8, 10, 12, 14]\n",
    "            right = [1, 2, 3]\n",
    "\n",
    "            8 <= 1? FALSE:\n",
    "                return_arr[0] = 1\n",
    "                num_inversions = len(left) - cur_pos_left\n",
    "                num_inv = len(left) - i = 4\n",
    "            j = 1\n",
    "            8 <= 2? FALSE:\n",
    "                return_arr[1] = 2\n",
    "                num_inv = 4 + 3\n",
    "            j = 2\n",
    "            8 <= 3? FALSE:\n",
    "                return_arr[2] = 3\n",
    "                num_inv = 7 + 2\n",
    "            j = 3 = len(right)\n",
    "            Add all of left to end of right\n",
    "                return_arr[3] = 8\n",
    "                ...\n",
    "                return_arr[6] = 14\n",
    "            return_arr = [1,2,3,8,10,12,14]\n",
    "        '''\n",
    "        for k in range(len(return_array)):\n",
    "            if left[i] <= right[j]:\n",
    "                return_array[k] = left[i]\n",
    "                i += 1\n",
    "                if i == len(left):\n",
    "                    while j != len(right):\n",
    "                        k+=1\n",
    "                        return_array[k] = right[j]\n",
    "                        j += 1\n",
    "                    break\n",
    "            elif right[j] < left[i]:\n",
    "                return_array[k] = right[j]\n",
    "                count += (len(left) - i)\n",
    "                j += 1\n",
    "                if j == len(right):\n",
    "                    while i != len(left):\n",
    "                        k += 1\n",
    "                        return_array[k] = left[i]\n",
    "                        i+=1\n",
    "                    break\n",
    "        \n",
    "    return (count + right_count + left_count, return_array.astype(int))\n",
    "                "
   ]
  },
  {
   "cell_type": "code",
   "execution_count": 20,
   "metadata": {},
   "outputs": [],
   "source": [
    "small_int_array = int_array\n",
    "# logging.info('\\n\\n')\n",
    "# logging.info('Initial Array: {}'.format(small_int_array))"
   ]
  },
  {
   "cell_type": "code",
   "execution_count": 21,
   "metadata": {},
   "outputs": [],
   "source": [
    "total, sortd = CountInversions(small_int_array)"
   ]
  },
  {
   "cell_type": "code",
   "execution_count": 22,
   "metadata": {
    "scrolled": true
   },
   "outputs": [
    {
     "name": "stdout",
     "output_type": "stream",
     "text": [
      "2407905288\n",
      "2407905288\n"
     ]
    }
   ],
   "source": [
    "print(total)\n",
    "print(count)"
   ]
  },
  {
   "cell_type": "code",
   "execution_count": 10,
   "metadata": {},
   "outputs": [
    {
     "name": "stdout",
     "output_type": "stream",
     "text": [
      "7 [1 2 3 4 6]\n"
     ]
    }
   ],
   "source": [
    "# count = 0\n",
    "logging.info('~~~~~~~~~~~~~~~~~~~~ NEW ~~~~~~~~~~~~~~~~~~~~')\n",
    "test1 = np.array([6,2,4,1,3])\n",
    "total, sortd = CountInversions(test1)\n",
    "print(total, sortd)"
   ]
  },
  {
   "cell_type": "code",
   "execution_count": 11,
   "metadata": {},
   "outputs": [
    {
     "name": "stdout",
     "output_type": "stream",
     "text": [
      "30 [  1   1   2   3   4   4   4   5   6   9  50 123]\n"
     ]
    }
   ],
   "source": [
    "# count = 0\n",
    "logging.info('~~~~~~~~~~~~~~~~~~~~ NEW ~~~~~~~~~~~~~~~~~~~~')\n",
    "test2 = np.array([6,2,4,1,50,123,4,1,4,5,9,3])\n",
    "total, sortd = CountInversions(test2)\n",
    "print(total, sortd)"
   ]
  },
  {
   "cell_type": "code",
   "execution_count": null,
   "metadata": {
    "collapsed": true
   },
   "outputs": [],
   "source": []
  }
 ],
 "metadata": {
  "kernelspec": {
   "display_name": "Python 3",
   "language": "python",
   "name": "python3"
  },
  "language_info": {
   "codemirror_mode": {
    "name": "ipython",
    "version": 3
   },
   "file_extension": ".py",
   "mimetype": "text/x-python",
   "name": "python",
   "nbconvert_exporter": "python",
   "pygments_lexer": "ipython3",
   "version": "3.6.3"
  }
 },
 "nbformat": 4,
 "nbformat_minor": 2
}
